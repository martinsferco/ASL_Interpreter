{
 "cells": [
  {
   "cell_type": "markdown",
   "id": "8e4cb982-03fb-4982-ab38-312b2d644be3",
   "metadata": {},
   "source": [
    "# Reconocedor de lenguaje de señas Argentino entrenado solo con el dataset argentino."
   ]
  },
  {
   "cell_type": "code",
   "execution_count": 5,
   "id": "bc89cb28-63ce-4021-bc45-de4b92ea4a03",
   "metadata": {},
   "outputs": [],
   "source": [
    "import tensorflow as tf\n",
    "from tensorflow.keras.applications.inception_v3 import InceptionV3, preprocess_input, decode_predictions\n",
    "from tensorflow.keras.preprocessing import image\n",
    "from tensorflow.keras.layers import GlobalAveragePooling2D, Dense, Dropout\n",
    "from tensorflow.keras.models import Model\n",
    "\n",
    "import numpy as np\n",
    "import matplotlib.pyplot as plt"
   ]
  },
  {
   "cell_type": "markdown",
   "id": "cb3b6fc2-2c8a-49e0-8a50-7ca8db986aab",
   "metadata": {},
   "source": [
    "Importamos los datasets y hacemos un split.\n",
    "Comencemos por el dataset mas populado, el de lenguaje de señas americano, que utilizaremos para entrenar las capas intermedias.\n"
   ]
  },
  {
   "cell_type": "code",
   "execution_count": 6,
   "id": "56e5079e-6849-450b-a250-2c1e2e3722a8",
   "metadata": {},
   "outputs": [
    {
     "name": "stdout",
     "output_type": "stream",
     "text": [
      "Found 2515 files belonging to 36 classes.\n",
      "Using 2012 files for training.\n",
      "Found 2515 files belonging to 36 classes.\n",
      "Using 503 files for validation.\n"
     ]
    }
   ],
   "source": [
    "from tensorflow.keras.preprocessing import image_dataset_from_directory\n",
    "\n",
    "# Definimos los parametros\n",
    "image_size = (299, 299)\n",
    "batch_size = 32\n",
    "asl_dir = \"asl_dataset/\"\n",
    "train_val_seed = 42        # Es importante que sea la misma para ambos llamados\n",
    "\n",
    "# Y creamos los conjuntos de entrenamiento y validacion. \n",
    "# Esto es medio raro, porque invocamos dos veces a image_dataset_from_directory para hacer el split,\n",
    "# pero es la manera que indica la documentacion\n",
    "asl_train_ds = image_dataset_from_directory(\n",
    "    asl_dir,\n",
    "    validation_split=0.2,\n",
    "    subset=\"training\",\n",
    "    seed=train_val_seed, \n",
    "    image_size=image_size,\n",
    "    batch_size=batch_size,\n",
    "    label_mode='int'   # or 'categorical' if you want one-hot\n",
    ")\n",
    "\n",
    "asl_val_ds = image_dataset_from_directory(\n",
    "    asl_dir,\n",
    "    validation_split=0.2,\n",
    "    subset=\"validation\",\n",
    "    seed=train_val_seed, \n",
    "    image_size=image_size,\n",
    "    batch_size=batch_size,\n",
    "    label_mode='int'\n",
    ")\n",
    "\n",
    "class_names = asl_train_ds.class_names"
   ]
  },
  {
   "cell_type": "code",
   "execution_count": 7,
   "id": "716a4e2e-747b-494f-a8d7-7cce626f49bf",
   "metadata": {},
   "outputs": [
    {
     "name": "stdout",
     "output_type": "stream",
     "text": [
      "['0', '1', '2', '3', '4', '5', '6', '7', '8', '9', 'a', 'b', 'c', 'd', 'e', 'f', 'g', 'h', 'i', 'j', 'k', 'l', 'm', 'n', 'o', 'p', 'q', 'r', 's', 't', 'u', 'v', 'w', 'x', 'y', 'z']\n",
      "Entradas en entrenamiento: 2012\n",
      "Entradas en validación: 503\n"
     ]
    },
    {
     "name": "stderr",
     "output_type": "stream",
     "text": [
      "2025-08-01 19:44:47.120327: I tensorflow/core/framework/local_rendezvous.cc:407] Local rendezvous is aborting with status: OUT_OF_RANGE: End of sequence\n"
     ]
    }
   ],
   "source": [
    "print(class_names)\n",
    "\n",
    "def count_elements(dataset):\n",
    "    count = 0\n",
    "    for batch in dataset:\n",
    "        images, labels = batch\n",
    "        count += images.shape[0]\n",
    "    return count\n",
    "\n",
    "print(\"Entradas en entrenamiento:\", count_elements(asl_train_ds))\n",
    "print(\"Entradas en validación:\", count_elements(asl_val_ds))"
   ]
  },
  {
   "cell_type": "markdown",
   "id": "45717ea2-f834-47a6-bab2-b488ac7ab166",
   "metadata": {},
   "source": [
    "Procesamos ahora las imagenes para adecuarlas al formato de *InceptionV3*,"
   ]
  },
  {
   "cell_type": "code",
   "execution_count": 8,
   "id": "d9112aa8-3506-40e4-8db6-641dc5a0ae74",
   "metadata": {},
   "outputs": [],
   "source": [
    "from tensorflow.keras.applications.inception_v3 import preprocess_input\n",
    "\n",
    "def preprocess_img(image, label):\n",
    "    image = preprocess_input(image) \n",
    "    return image, label\n",
    "\n",
    "asl_train_ds = asl_train_ds.map(preprocess_img).prefetch(tf.data.AUTOTUNE)\n",
    "asl_val_ds   = asl_val_ds.map(preprocess_img).prefetch(tf.data.AUTOTUNE)"
   ]
  },
  {
   "cell_type": "markdown",
   "id": "d5f7e137-0e04-42fd-ad69-a60e6359e1f2",
   "metadata": {},
   "source": [
    "Chequeemos que obtuvimos las clases correctas,"
   ]
  },
  {
   "cell_type": "code",
   "execution_count": 9,
   "id": "057ccc05-bd37-4206-b13c-7604eebce6ca",
   "metadata": {},
   "outputs": [
    {
     "name": "stdout",
     "output_type": "stream",
     "text": [
      "['0', '1', '2', '3', '4', '5', '6', '7', '8', '9', 'a', 'b', 'c', 'd', 'e', 'f', 'g', 'h', 'i', 'j', 'k', 'l', 'm', 'n', 'o', 'p', 'q', 'r', 's', 't', 'u', 'v', 'w', 'x', 'y', 'z']\n"
     ]
    }
   ],
   "source": [
    "print(class_names)"
   ]
  },
  {
   "cell_type": "markdown",
   "id": "818453ec-a778-49c3-a184-945d0d4fe35d",
   "metadata": {},
   "source": [
    "Continuemos con la carga del dataset de lenguaje de señas argentino que definira las clases sobre la que predecirá el modelo."
   ]
  },
  {
   "cell_type": "code",
   "execution_count": 10,
   "id": "9ab254a5-4edd-4466-8124-9d626f4d6421",
   "metadata": {},
   "outputs": [],
   "source": [
    "import os\n",
    "import pandas as pd\n",
    "from sklearn.model_selection import train_test_split\n",
    "\n",
    "# Extraemos los nombres de todas las imagenes que vamos a utilizar\n",
    "lsa_dir = 'lsa16_segmented/'\n",
    "filenames = [f for f in os.listdir(lsa_dir)]\n",
    "\n",
    "# Y de cada una extraemos su clase, que viene dada por el primer numero del nombre\n",
    "labels = [int(f.split('_')[0]) - 1 for f in filenames]   # Le restamos 1 a los labels para que esten en rango [0, 16) en vez de [1, 16]\n",
    "\n",
    "# Y creamos un dataframe que asocia a cada nombre de archivo su clase.\n",
    "lsa_df = pd.DataFrame({'filename': filenames, 'class': labels})"
   ]
  },
  {
   "cell_type": "markdown",
   "id": "c35cdbe3-7c07-472a-a3e6-32f951d47104",
   "metadata": {},
   "source": [
    "Preprocesamos las imagenes para adecuarlas al formato de ImageNet"
   ]
  },
  {
   "cell_type": "code",
   "execution_count": 11,
   "id": "533ae972-308d-447c-8a46-927dc74b94e5",
   "metadata": {},
   "outputs": [],
   "source": [
    "from sklearn.model_selection import train_test_split\n",
    "\n",
    "# Separaramos el conjunto de test (20%)\n",
    "lsa_temp_df, lsa_test_df = train_test_split(\n",
    "    lsa_df,\n",
    "    test_size=0.2,\n",
    "    stratify=lsa_df['class'],\n",
    "    random_state=42\n",
    ")\n",
    "\n",
    "# Y separamos lo restante en train y val (80% train -> 64% total, 20% val -> 16% total)\n",
    "lsa_train_df, lsa_val_df = train_test_split(\n",
    "    lsa_temp_df,\n",
    "    test_size=0.2,  # 20% de 80% = 16% del total\n",
    "    stratify=lsa_temp_df['class'],\n",
    "    random_state=42\n",
    ")"
   ]
  },
  {
   "cell_type": "markdown",
   "id": "8025e1e3-4e1e-4969-9039-437b909fddb7",
   "metadata": {},
   "source": [
    "Creamos un *pipeline* de datos de *TensorFlow*. La idea es aprovechar la paralelización del *map* para procesar los datos mas rápido."
   ]
  },
  {
   "cell_type": "code",
   "execution_count": 12,
   "id": "325d2a59-b2f9-46b4-b97d-0d2c99eafe37",
   "metadata": {},
   "outputs": [],
   "source": [
    "# Definimos una funcion que dado un filename devuelve su imagen y su clase o label\n",
    "def load_and_preprocess(image_path, label):\n",
    "\n",
    "    # Leemos el archivo y lo decodificamos en RGB\n",
    "    img = tf.io.read_file(lsa_dir + image_path)\n",
    "    img = tf.image.decode_jpeg(img, channels=3) \n",
    "    \n",
    "    # Lo preprocesamos para InceptionV3\n",
    "    img = tf.image.resize(img, [299, 299])\n",
    "    img = preprocess_input(img)  # Obs. que preprocess_input es una funcion de inception_v3 en particular\n",
    "    \n",
    "    return img, label\n",
    "\n",
    "# Usamos un batch_size de TensorFlow estandar\n",
    "batch_size = 32\n",
    "\n",
    "# 1. Cargamos el dataframe\n",
    "lsa_ds = tf.data.Dataset.from_tensor_slices((lsa_train_df['filename'].values, lsa_train_df['class'].values))\n",
    "\n",
    "# 2. Le mappeamos el preprocesamiento a cada entrada, paralelizando\n",
    "lsa_ds = lsa_ds.map(load_and_preprocess, num_parallel_calls=tf.data.AUTOTUNE)\n",
    "\n",
    "# 3. Mezclamos para randomizar el orden de las muestras\n",
    "lsa_ds = lsa_ds.shuffle(buffer_size=len(lsa_train_df))\n",
    "\n",
    "# 4. Usamos el batch_size estandar\n",
    "lsa_ds = lsa_ds.batch(batch_size)\n",
    "\n",
    "# 5. Permitimos el prefetching del proximo batch\n",
    "lsa_train_ds = lsa_ds.prefetch(tf.data.AUTOTUNE)                                                       \n",
    "\n",
    "# Y repetimos lo mismo para el conjunto de validacion\n",
    "lsa_val_ds = tf.data.Dataset.from_tensor_slices((lsa_val_df['filename'].values, lsa_val_df['class'].values))\\\n",
    "           .map(load_and_preprocess, num_parallel_calls=tf.data.AUTOTUNE) \\\n",
    "           .batch(batch_size) \\\n",
    "           .prefetch(tf.data.AUTOTUNE)"
   ]
  },
  {
   "cell_type": "markdown",
   "id": "4c53e367-6eaa-45a3-8adf-be391a16b7a5",
   "metadata": {},
   "source": [
    "Entrenemos ahora las capas intermedias del modelo con el *dataset* de ASL,"
   ]
  },
  {
   "cell_type": "markdown",
   "id": "c5455f5a-97ea-42f3-b84d-f05dbbb3a31e",
   "metadata": {},
   "source": [
    "Cargamos el modelo de manera que sea entrenable. No incluímos su última capa para poder establecer nuestras propias clases."
   ]
  },
  {
   "cell_type": "code",
   "execution_count": 13,
   "id": "c215d95e-eb10-42fa-8563-d2cfc2196a0a",
   "metadata": {},
   "outputs": [
    {
     "name": "stderr",
     "output_type": "stream",
     "text": [
      "2025-08-01 19:45:01.371149: W external/local_xla/xla/tsl/framework/cpu_allocator_impl.cc:83] Allocation of 177020928 exceeds 10% of free system memory.\n"
     ]
    },
    {
     "name": "stdout",
     "output_type": "stream",
     "text": [
      "\u001b[1m 1/63\u001b[0m \u001b[37m━━━━━━━━━━━━━━━━━━━━\u001b[0m \u001b[1m14:33\u001b[0m 14s/step - accuracy: 0.0000e+00 - loss: 3.8460"
     ]
    },
    {
     "name": "stderr",
     "output_type": "stream",
     "text": [
      "2025-08-01 19:45:03.883399: W external/local_xla/xla/tsl/framework/cpu_allocator_impl.cc:83] Allocation of 177020928 exceeds 10% of free system memory.\n"
     ]
    },
    {
     "name": "stdout",
     "output_type": "stream",
     "text": [
      "\u001b[1m 2/63\u001b[0m \u001b[37m━━━━━━━━━━━━━━━━━━━━\u001b[0m \u001b[1m2:25\u001b[0m 2s/step - accuracy: 0.0078 - loss: 3.8078      "
     ]
    },
    {
     "name": "stderr",
     "output_type": "stream",
     "text": [
      "2025-08-01 19:45:06.258399: W external/local_xla/xla/tsl/framework/cpu_allocator_impl.cc:83] Allocation of 177020928 exceeds 10% of free system memory.\n"
     ]
    },
    {
     "name": "stdout",
     "output_type": "stream",
     "text": [
      "\u001b[1m 3/63\u001b[0m \u001b[37m━━━━━━━━━━━━━━━━━━━━\u001b[0m \u001b[1m2:26\u001b[0m 2s/step - accuracy: 0.0122 - loss: 3.7905"
     ]
    },
    {
     "name": "stderr",
     "output_type": "stream",
     "text": [
      "2025-08-01 19:45:08.750826: W external/local_xla/xla/tsl/framework/cpu_allocator_impl.cc:83] Allocation of 177020928 exceeds 10% of free system memory.\n"
     ]
    },
    {
     "name": "stdout",
     "output_type": "stream",
     "text": [
      "\u001b[1m 4/63\u001b[0m \u001b[32m━\u001b[0m\u001b[37m━━━━━━━━━━━━━━━━━━━\u001b[0m \u001b[1m2:22\u001b[0m 2s/step - accuracy: 0.0130 - loss: 3.7822"
     ]
    },
    {
     "name": "stderr",
     "output_type": "stream",
     "text": [
      "2025-08-01 19:45:11.115742: W external/local_xla/xla/tsl/framework/cpu_allocator_impl.cc:83] Allocation of 177020928 exceeds 10% of free system memory.\n"
     ]
    },
    {
     "name": "stdout",
     "output_type": "stream",
     "text": [
      "\u001b[1m63/63\u001b[0m \u001b[32m━━━━━━━━━━━━━━━━━━━━\u001b[0m\u001b[37m\u001b[0m \u001b[1m188s\u001b[0m 3s/step - accuracy: 0.1029 - loss: 3.4395 - val_accuracy: 0.1809 - val_loss: 3.2393\n"
     ]
    }
   ],
   "source": [
    "# Cargamos InceptionV3\n",
    "base_model = InceptionV3(weights = 'imagenet',       # Pre-entrenado con ImageNet\n",
    "                         include_top = False,        # Sin incluir su capa de clasificacion con 1000 clases para poder hacer fine-tuning \n",
    "                         input_shape = (299, 299, 3) # Necesario cuando no incluimos la ultima capa\n",
    "                        )\n",
    "\n",
    "# Inicialmente descongelamos todas las capas, despues congelamos las que no queremos que se entrenen\n",
    "base_model.trainable = True\n",
    "\n",
    "# Descongelamos desde la capa llamada mixed7, lo que descongela las ultimas ~50 capas.\n",
    "set_trainable = False\n",
    "for layer in base_model.layers:\n",
    "    if layer.name == \"mixed7\":\n",
    "        set_trainable = True\n",
    "    layer.trainable = set_trainable\n",
    "\n",
    "# Construimos la cabeza de clasificacion para las 36 clases de ASL\n",
    "x = base_model.output\n",
    "x = GlobalAveragePooling2D()(x)\n",
    "x = Dense(1024, activation='relu')(x)\n",
    "x = Dropout(0.5)(x)\n",
    "predictions = Dense(36, activation='softmax')(x)  # 26 letras + 10 digitos\n",
    "\n",
    "model = Model(inputs=base_model.input, outputs=predictions)\n",
    "\n",
    "# Compilamos el modelo usando un learning_rate bajo.\n",
    "tuning_learning_rate = 1e-5\n",
    "model.compile(optimizer=tf.keras.optimizers.Adam(learning_rate=tuning_learning_rate),\n",
    "              loss='sparse_categorical_crossentropy',\n",
    "              metrics=['accuracy'])\n",
    "\n",
    "# Lo entrenamos con esos datos\n",
    "model.fit(asl_train_ds, validation_data=asl_val_ds, epochs=1)\n",
    "\n",
    "# Y nos guardamos los pesos del modelo del cual luego usaremos todo menos la cabeza de clasificacion.\n",
    "model.save_weights(\"inceptionv3_hand_features.weights.h5\")"
   ]
  },
  {
   "cell_type": "markdown",
   "id": "310a01d8-b66f-45c4-ba3a-1cb6a2036885",
   "metadata": {},
   "source": [
    "Ahora cargamos ese modelo que entrenamos pero le sacamos la cabeza y colocamos la clasificadora de LSA."
   ]
  },
  {
   "cell_type": "code",
   "execution_count": 14,
   "id": "cba92cd4-e9bf-4027-9f6d-18365fc31c11",
   "metadata": {},
   "outputs": [
    {
     "name": "stderr",
     "output_type": "stream",
     "text": [
      "/home/octavio/envs/asl_env/lib/python3.12/site-packages/keras/src/saving/saving_lib.py:643: UserWarning: A total of 1 objects could not be loaded. Example error message for object <Dense name=dense_3, built=True>:\n",
      "\n",
      "The shape of the target variable and the shape of the target value in `variable.assign(value)` must match. variable.shape=(1024, 16), Received: value.shape=(1024, 36). Target variable: <Variable path=dense_3/kernel, shape=(1024, 16), dtype=float32, value=[[-0.0205188   0.04112691  0.06684858 ... -0.05414442  0.06695524\n",
      "  -0.06507482]\n",
      " [ 0.04626291 -0.02918088  0.02663457 ... -0.00343548  0.00574127\n",
      "  -0.02905422]\n",
      " [-0.02177668 -0.00184821  0.01017255 ...  0.02207059 -0.04174433\n",
      "  -0.02234919]\n",
      " ...\n",
      " [-0.00033433 -0.032683   -0.03942923 ... -0.01710185  0.05190751\n",
      "  -0.05610539]\n",
      " [-0.0392981   0.03757297  0.0306303  ...  0.04533491  0.00957679\n",
      "  -0.05994962]\n",
      " [-0.00791755  0.03439163  0.03149871 ... -0.02082872  0.04544543\n",
      "  -0.03792374]]>\n",
      "\n",
      "List of objects that could not be loaded:\n",
      "[<Dense name=dense_3, built=True>]\n",
      "  warnings.warn(msg)\n"
     ]
    },
    {
     "name": "stdout",
     "output_type": "stream",
     "text": [
      "\u001b[1m16/16\u001b[0m \u001b[32m━━━━━━━━━━━━━━━━━━━━\u001b[0m\u001b[37m\u001b[0m \u001b[1m37s\u001b[0m 2s/step - accuracy: 0.1777 - loss: 2.8009 - val_accuracy: 0.4219 - val_loss: 1.7348\n"
     ]
    }
   ],
   "source": [
    "# Reconstruimos el modelo, nuevamente sin incluir el top.\n",
    "base_model = InceptionV3(weights=None, include_top=False, input_shape=(299, 299, 3))\n",
    "base_model.trainable = False  # Y en este caso freezamos todas las capas pues solo queremos entrenar la que agregaremos\n",
    "\n",
    "# Le agregamos la ultima capa\n",
    "num_classes = lsa_train_df['class'].nunique()\n",
    "\n",
    "x = base_model.output\n",
    "x = GlobalAveragePooling2D()(x)\n",
    "x = Dense(1024, activation='relu')(x)\n",
    "x = Dropout(0.5)(x)\n",
    "predictions = Dense(num_classes, activation='softmax')(x)\n",
    "\n",
    "model = Model(inputs=base_model.input, outputs=predictions)\n",
    "\n",
    "# Cargamos solo las capas compartidas con el modelo que entrenamos antes\n",
    "model.load_weights(\"inceptionv3_hand_features.weights.h5\", skip_mismatch=True)\n",
    "\n",
    "# Lo compilamos, ahora con un learning rate un poco mas alto.\n",
    "model.compile(optimizer=tf.keras.optimizers.Adam(learning_rate=1e-3),\n",
    "              loss='sparse_categorical_crossentropy',\n",
    "              metrics=['accuracy'])\n",
    "\n",
    "# Y entrenamos\n",
    "history = model.fit(lsa_train_ds, validation_data=lsa_val_ds, epochs=1)"
   ]
  },
  {
   "cell_type": "markdown",
   "id": "54e976c2-6fff-498a-ba1a-d96c5ebdcb9e",
   "metadata": {},
   "source": [
    "Y guardamos los pesos de este modelo final,"
   ]
  },
  {
   "cell_type": "code",
   "execution_count": 15,
   "id": "c164c3b6-1a99-45b8-8ff3-4e58386c511f",
   "metadata": {},
   "outputs": [],
   "source": [
    "model.save_weights(\"combined_interpreter_final.weights.h5\")"
   ]
  },
  {
   "cell_type": "markdown",
   "id": "5c8bee88-5964-4585-8940-24b8d481aa90",
   "metadata": {},
   "source": [
    "Veamos ahora los grafiquitos"
   ]
  },
  {
   "cell_type": "code",
   "execution_count": 16,
   "id": "067af3dc-f970-42c8-8d5b-f6537a38ddeb",
   "metadata": {},
   "outputs": [
    {
     "data": {
      "image/png": "[encoded data removed]",
      "text/plain": [
       "<Figure size 1200x500 with 2 Axes>"
      ]
     },
     "metadata": {},
     "output_type": "display_data"
    }
   ],
   "source": [
    "# Plot training & validation accuracy values\n",
    "plt.figure(figsize=(12, 5))\n",
    "\n",
    "plt.subplot(1, 2, 1)\n",
    "plt.plot(history.history['accuracy'], label='Train Accuracy')\n",
    "plt.plot(history.history['val_accuracy'], label='Val Accuracy')\n",
    "plt.title('Model Accuracy')\n",
    "plt.xlabel('Epoch')\n",
    "plt.ylabel('Accuracy')\n",
    "plt.legend()\n",
    "\n",
    "# Plot training & validation loss values\n",
    "plt.subplot(1, 2, 2)\n",
    "plt.plot(history.history['loss'], label='Train Loss')\n",
    "plt.plot(history.history['val_loss'], label='Val Loss')\n",
    "plt.title('Model Loss')\n",
    "plt.xlabel('Epoch')\n",
    "plt.ylabel('Loss')\n",
    "plt.legend()\n",
    "\n",
    "plt.tight_layout()\n",
    "plt.show()\n"
   ]
  },
  {
   "cell_type": "markdown",
   "id": "3f1c534d-eeaa-4ef1-838b-48e1ee355ecc",
   "metadata": {},
   "source": [
    "Esto que sigue creo que no funciona."
   ]
  },
  {
   "cell_type": "code",
   "execution_count": null,
   "id": "00c2a319-7c46-4308-815c-d380e9dc485c",
   "metadata": {},
   "outputs": [],
   "source": []
  },
  {
   "cell_type": "code",
   "execution_count": 17,
   "id": "bb8c428a-b615-495c-b649-a06188a5b7e5",
   "metadata": {},
   "outputs": [
    {
     "name": "stdout",
     "output_type": "stream",
     "text": [
      "\u001b[1m1/1\u001b[0m \u001b[32m━━━━━━━━━━━━━━━━━━━━\u001b[0m\u001b[37m\u001b[0m \u001b[1m2s\u001b[0m 2s/step\n"
     ]
    },
    {
     "ename": "ValueError",
     "evalue": "`decode_predictions` expects a batch of predictions (i.e. a 2D array of shape (samples, 1000)). Received array with shape: (1, 16)",
     "output_type": "error",
     "traceback": [
      "\u001b[31m---------------------------------------------------------------------------\u001b[39m",
      "\u001b[31mValueError\u001b[39m                                Traceback (most recent call last)",
      "\u001b[36mCell\u001b[39m\u001b[36m \u001b[39m\u001b[32mIn[17]\u001b[39m\u001b[32m, line 9\u001b[39m\n\u001b[32m      7\u001b[39m \u001b[38;5;66;03m# Predict\u001b[39;00m\n\u001b[32m      8\u001b[39m predictions = model.predict(img_array)\n\u001b[32m----> \u001b[39m\u001b[32m9\u001b[39m decoded_predictions = \u001b[43mdecode_predictions\u001b[49m\u001b[43m(\u001b[49m\u001b[43mpredictions\u001b[49m\u001b[43m,\u001b[49m\u001b[43m \u001b[49m\u001b[43mtop\u001b[49m\u001b[43m=\u001b[49m\u001b[32;43m5\u001b[39;49m\u001b[43m)\u001b[49m[\u001b[32m0\u001b[39m]\n\u001b[32m     11\u001b[39m \u001b[38;5;66;03m# Display results\u001b[39;00m\n\u001b[32m     12\u001b[39m plt.imshow(img)\n",
      "\u001b[36mFile \u001b[39m\u001b[32m~/envs/asl_env/lib/python3.12/site-packages/keras/src/applications/inception_v3.py:434\u001b[39m, in \u001b[36mdecode_predictions\u001b[39m\u001b[34m(preds, top)\u001b[39m\n\u001b[32m    432\u001b[39m \u001b[38;5;129m@keras_export\u001b[39m(\u001b[33m\"\u001b[39m\u001b[33mkeras.applications.inception_v3.decode_predictions\u001b[39m\u001b[33m\"\u001b[39m)\n\u001b[32m    433\u001b[39m \u001b[38;5;28;01mdef\u001b[39;00m\u001b[38;5;250m \u001b[39m\u001b[34mdecode_predictions\u001b[39m(preds, top=\u001b[32m5\u001b[39m):\n\u001b[32m--> \u001b[39m\u001b[32m434\u001b[39m     \u001b[38;5;28;01mreturn\u001b[39;00m \u001b[43mimagenet_utils\u001b[49m\u001b[43m.\u001b[49m\u001b[43mdecode_predictions\u001b[49m\u001b[43m(\u001b[49m\u001b[43mpreds\u001b[49m\u001b[43m,\u001b[49m\u001b[43m \u001b[49m\u001b[43mtop\u001b[49m\u001b[43m=\u001b[49m\u001b[43mtop\u001b[49m\u001b[43m)\u001b[49m\n",
      "\u001b[36mFile \u001b[39m\u001b[32m~/envs/asl_env/lib/python3.12/site-packages/keras/src/applications/imagenet_utils.py:136\u001b[39m, in \u001b[36mdecode_predictions\u001b[39m\u001b[34m(preds, top)\u001b[39m\n\u001b[32m    133\u001b[39m \u001b[38;5;28;01mglobal\u001b[39;00m CLASS_INDEX\n\u001b[32m    135\u001b[39m \u001b[38;5;28;01mif\u001b[39;00m \u001b[38;5;28mlen\u001b[39m(preds.shape) != \u001b[32m2\u001b[39m \u001b[38;5;129;01mor\u001b[39;00m preds.shape[\u001b[32m1\u001b[39m] != \u001b[32m1000\u001b[39m:\n\u001b[32m--> \u001b[39m\u001b[32m136\u001b[39m     \u001b[38;5;28;01mraise\u001b[39;00m \u001b[38;5;167;01mValueError\u001b[39;00m(\n\u001b[32m    137\u001b[39m         \u001b[33m\"\u001b[39m\u001b[33m`decode_predictions` expects \u001b[39m\u001b[33m\"\u001b[39m\n\u001b[32m    138\u001b[39m         \u001b[33m\"\u001b[39m\u001b[33ma batch of predictions \u001b[39m\u001b[33m\"\u001b[39m\n\u001b[32m    139\u001b[39m         \u001b[33m\"\u001b[39m\u001b[33m(i.e. a 2D array of shape (samples, 1000)). \u001b[39m\u001b[33m\"\u001b[39m\n\u001b[32m    140\u001b[39m         \u001b[33mf\u001b[39m\u001b[33m\"\u001b[39m\u001b[33mReceived array with shape: \u001b[39m\u001b[38;5;132;01m{\u001b[39;00mpreds.shape\u001b[38;5;132;01m}\u001b[39;00m\u001b[33m\"\u001b[39m\n\u001b[32m    141\u001b[39m     )\n\u001b[32m    142\u001b[39m \u001b[38;5;28;01mif\u001b[39;00m CLASS_INDEX \u001b[38;5;129;01mis\u001b[39;00m \u001b[38;5;28;01mNone\u001b[39;00m:\n\u001b[32m    143\u001b[39m     fpath = file_utils.get_file(\n\u001b[32m    144\u001b[39m         \u001b[33m\"\u001b[39m\u001b[33mimagenet_class_index.json\u001b[39m\u001b[33m\"\u001b[39m,\n\u001b[32m    145\u001b[39m         CLASS_INDEX_PATH,\n\u001b[32m    146\u001b[39m         cache_subdir=\u001b[33m\"\u001b[39m\u001b[33mmodels\u001b[39m\u001b[33m\"\u001b[39m,\n\u001b[32m    147\u001b[39m         file_hash=\u001b[33m\"\u001b[39m\u001b[33mc2c37ea517e94d9795004a39431a14cb\u001b[39m\u001b[33m\"\u001b[39m,\n\u001b[32m    148\u001b[39m     )\n",
      "\u001b[31mValueError\u001b[39m: `decode_predictions` expects a batch of predictions (i.e. a 2D array of shape (samples, 1000)). Received array with shape: (1, 16)"
     ]
    }
   ],
   "source": [
    "img_path = 'lsa16_segmented/1_1_1.png'  \n",
    "img = image.load_img(img_path, target_size=(299, 299)) # La carga en img y le hace resize a 299x299\n",
    "img_array = image.img_to_array(img)                    # La convierte a array de NumPy con dimensiones (299, 299, 3)\n",
    "img_array = np.expand_dims(img_array, axis=0)          # Agrega una dimension mas al array, haciendolo (1, 299, 299, 3) para batching\n",
    "img_array = preprocess_input(img_array)                # Matchea la representacion de la imagen a como la espera ImageNet (ej. mappea 0-255 a -1,1, cambia de RGB a BGR)\n",
    "\n",
    "# Predict\n",
    "predictions = model.predict(img_array)\n",
    "decoded_predictions = decode_predictions(predictions, top=5)[0]\n",
    "\n",
    "# Display results\n",
    "plt.imshow(img)\n",
    "plt.axis('off')\n",
    "plt.show()\n",
    "\n",
    "print(\"Top 5 Predictions:\")\n",
    "for i, (_, label, prob) in enumerate(decoded_predictions):\n",
    "    print(f\"{i + 1}: {label} ({prob * 100:.2f}%)\")"
   ]
  },
  {
   "cell_type": "code",
   "execution_count": null,
   "id": "6210e17d-f1dd-45bd-a9fb-79a79135dbf6",
   "metadata": {},
   "outputs": [],
   "source": []
  }
 ],
 "metadata": {
  "kernelspec": {
   "display_name": "Python (NEW ASL Env)",
   "language": "python",
   "name": "asl_env"
  },
  "language_info": {
   "codemirror_mode": {
    "name": "ipython",
    "version": 3
   },
   "file_extension": ".py",
   "mimetype": "text/x-python",
   "name": "python",
   "nbconvert_exporter": "python",
   "pygments_lexer": "ipython3",
   "version": "3.12.3"
  }
 },
 "nbformat": 4,
 "nbformat_minor": 5
}
