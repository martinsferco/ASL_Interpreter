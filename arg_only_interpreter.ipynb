{
 "cells": [
  {
   "cell_type": "markdown",
   "id": "8e4cb982-03fb-4982-ab38-312b2d644be3",
   "metadata": {},
   "source": [
    "Reconocedor de lenguaje de señas Argentino entrenado solo con el dataset argentino."
   ]
  },
  {
   "cell_type": "code",
   "execution_count": 1,
   "id": "bc89cb28-63ce-4021-bc45-de4b92ea4a03",
   "metadata": {},
   "outputs": [
    {
     "name": "stderr",
     "output_type": "stream",
     "text": [
      "2025-08-04 16:22:41.453778: I external/local_xla/xla/tsl/cuda/cudart_stub.cc:32] Could not find cuda drivers on your machine, GPU will not be used.\n",
      "2025-08-04 16:22:41.546665: I external/local_xla/xla/tsl/cuda/cudart_stub.cc:32] Could not find cuda drivers on your machine, GPU will not be used.\n",
      "2025-08-04 16:22:41.615893: E external/local_xla/xla/stream_executor/cuda/cuda_fft.cc:467] Unable to register cuFFT factory: Attempting to register factory for plugin cuFFT when one has already been registered\n",
      "WARNING: All log messages before absl::InitializeLog() is called are written to STDERR\n",
      "E0000 00:00:1754335361.691845   13483 cuda_dnn.cc:8579] Unable to register cuDNN factory: Attempting to register factory for plugin cuDNN when one has already been registered\n",
      "E0000 00:00:1754335361.713158   13483 cuda_blas.cc:1407] Unable to register cuBLAS factory: Attempting to register factory for plugin cuBLAS when one has already been registered\n",
      "W0000 00:00:1754335361.856183   13483 computation_placer.cc:177] computation placer already registered. Please check linkage and avoid linking the same target more than once.\n",
      "W0000 00:00:1754335361.856206   13483 computation_placer.cc:177] computation placer already registered. Please check linkage and avoid linking the same target more than once.\n",
      "W0000 00:00:1754335361.856210   13483 computation_placer.cc:177] computation placer already registered. Please check linkage and avoid linking the same target more than once.\n",
      "W0000 00:00:1754335361.856212   13483 computation_placer.cc:177] computation placer already registered. Please check linkage and avoid linking the same target more than once.\n",
      "2025-08-04 16:22:41.872232: I tensorflow/core/platform/cpu_feature_guard.cc:210] This TensorFlow binary is optimized to use available CPU instructions in performance-critical operations.\n",
      "To enable the following instructions: AVX2 FMA, in other operations, rebuild TensorFlow with the appropriate compiler flags.\n"
     ]
    }
   ],
   "source": [
    "import tensorflow as tf\n",
    "from tensorflow.keras.applications.inception_v3 import InceptionV3, preprocess_input, decode_predictions\n",
    "from tensorflow.keras.preprocessing import image\n",
    "from tensorflow.keras.layers import GlobalAveragePooling2D, Dense, Dropout\n",
    "from tensorflow.keras.models import Model\n",
    "\n",
    "import numpy as np\n",
    "import matplotlib.pyplot as plt"
   ]
  },
  {
   "cell_type": "markdown",
   "id": "c5455f5a-97ea-42f3-b84d-f05dbbb3a31e",
   "metadata": {},
   "source": [
    "Cargamos el modelo de manera que sea entrenable. No incluímos su última capa para poder establecer nuestras propias clases."
   ]
  },
  {
   "cell_type": "code",
   "execution_count": 2,
   "id": "e3bcd231-49d4-440f-9fdb-6b49a9d8bd68",
   "metadata": {},
   "outputs": [
    {
     "name": "stderr",
     "output_type": "stream",
     "text": [
      "2025-08-04 16:22:45.603006: E external/local_xla/xla/stream_executor/cuda/cuda_platform.cc:51] failed call to cuInit: INTERNAL: CUDA error: Failed call to cuInit: UNKNOWN ERROR (303)\n"
     ]
    }
   ],
   "source": [
    "# Cargamos InceptionV3\n",
    "base_model = InceptionV3(weights = 'imagenet',       # Pre-entrenado con ImageNet\n",
    "                         include_top = False,        # Sin incluir su capa de clasificacion con 1000 clases para poder hacer fine-tuning \n",
    "                         input_shape = (299, 299, 3) # Necesario cuando no incluimos la ultima capa\n",
    "                        )\n",
    "\n",
    "# Inicialmente congelamos todas las capas, despues descongelaremos las que nos interesen\n",
    "base_model.trainable = False"
   ]
  },
  {
   "cell_type": "markdown",
   "id": "cb3b6fc2-2c8a-49e0-8a50-7ca8db986aab",
   "metadata": {},
   "source": [
    "Importamos los datasets y hacemos un split."
   ]
  },
  {
   "cell_type": "code",
   "execution_count": 3,
   "id": "9ab254a5-4edd-4466-8124-9d626f4d6421",
   "metadata": {},
   "outputs": [],
   "source": [
    "import os\n",
    "import pandas as pd\n",
    "from sklearn.model_selection import train_test_split\n",
    "\n",
    "# Extraemos los nombres de todas las imagenes que vamos a utilizar\n",
    "image_dir = 'lsa16_segmented/'\n",
    "filenames = [f for f in os.listdir(image_dir)]\n",
    "\n",
    "# Y de cada una extraemos su clase, que viene dada por el primer numero del nombre\n",
    "labels = [int(f.split('_')[0]) - 1 for f in filenames]   # Le restamos 1 a los labels para que esten en rango [0, 16) en vez de [1, 16]\n",
    "\n",
    "# Y creamos un dataframe que asocia a cada nombre de archivo su clase.\n",
    "df = pd.DataFrame({'filename': filenames, 'class': labels})"
   ]
  },
  {
   "cell_type": "markdown",
   "id": "c35cdbe3-7c07-472a-a3e6-32f951d47104",
   "metadata": {},
   "source": [
    "Preprocesamos las imagenes para adecuarlas al formato de ImageNet"
   ]
  },
  {
   "cell_type": "code",
   "execution_count": 4,
   "id": "533ae972-308d-447c-8a46-927dc74b94e5",
   "metadata": {},
   "outputs": [],
   "source": [
    "# Separamos al dataset en train y validacion.\n",
    "train_df, val_df = train_test_split(df,\n",
    "                                    test_size=0.2,\n",
    "                                    stratify=df['class'],   # Hace que se mantengan las proporciones de las clases luego del split\n",
    "                                    random_state=42)"
   ]
  },
  {
   "cell_type": "markdown",
   "id": "8025e1e3-4e1e-4969-9039-437b909fddb7",
   "metadata": {},
   "source": [
    "Creamos un *pipeline* de datos de *TensorFlow*,"
   ]
  },
  {
   "cell_type": "code",
   "execution_count": 5,
   "id": "325d2a59-b2f9-46b4-b97d-0d2c99eafe37",
   "metadata": {},
   "outputs": [],
   "source": [
    "# Definimos una funcion que dado un filename devuelve su imagen y su clase o label\n",
    "def load_and_preprocess(image_path, label):\n",
    "\n",
    "    # Leemos el archivo y lo decodificamos en RGB\n",
    "    img = tf.io.read_file(image_dir + image_path)\n",
    "    img = tf.image.decode_jpeg(img, channels=3) \n",
    "    \n",
    "    # Lo preprocesamos para InceptionV3\n",
    "    img = tf.image.resize(img, [299, 299])\n",
    "    img = preprocess_input(img)  # Obs. que preprocess_input es una funcion de inception_v3 en particular\n",
    "    \n",
    "    return img, label\n",
    "\n",
    "# Usamos un batch_size de TensorFlow estandar\n",
    "batch_size = 32\n",
    "\n",
    "# 1. Cargamos el dataframe\n",
    "ds = tf.data.Dataset.from_tensor_slices((train_df['filename'].values, train_df['class'].values))\n",
    "\n",
    "# 2. Le mappeamos el preprocesamiento a cada entrada, paralelizando\n",
    "ds = ds.map(load_and_preprocess, num_parallel_calls=tf.data.AUTOTUNE)\n",
    "\n",
    "# 3. Mezclamos para randomizar el orden de las muestras\n",
    "ds = ds.shuffle(buffer_size=len(train_df))\n",
    "\n",
    "# 4. Usamos el batch_size estandar\n",
    "ds = ds.batch(batch_size)\n",
    "\n",
    "# 5. Permitimos el prefetching del proximo batch\n",
    "train_ds = ds.prefetch(tf.data.AUTOTUNE)                                                       \n",
    "\n",
    "# Y repetimos lo mismo para el conjunto de validacion\n",
    "val_ds = tf.data.Dataset.from_tensor_slices((val_df['filename'].values, val_df['class'].values))\\\n",
    "           .map(load_and_preprocess, num_parallel_calls=tf.data.AUTOTUNE) \\\n",
    "           .batch(batch_size) \\\n",
    "           .prefetch(tf.data.AUTOTUNE)"
   ]
  },
  {
   "cell_type": "code",
   "execution_count": 6,
   "id": "877c4bc6-01c5-40b1-81e5-eaf4895fe3e9",
   "metadata": {},
   "outputs": [
    {
     "name": "stdout",
     "output_type": "stream",
     "text": [
      "[10  0  9  0  3  6  5  0  3  5  3 12  9  2  8  1 12  6  2  2  5  2 10 11\n",
      " 11 13  3  2  0  7  8 12  8 11 14  7  4 10  4 12  6 14 10 14 13  2 11  7\n",
      "  9 14 10 15  8 15  8 12 13 13  3  6  3  8  2  1  9  4  3  9  8  0 10  4\n",
      "  8  7 12  0 13  4  5  7  5  9  1  7 10 14  5  7 11  7 11  1 10 13  6  5\n",
      " 13  6  4  6 11  5  1 11  8 12 14  7  7  5 14  4  2 15 13 13  6 11  2 14\n",
      " 15 15  0  4  9  6  0  8 10  0 12 14  6  2  4 15 12  9  1  1  3  5 12 15\n",
      "  1 14  9  0 11  1  3 15  3 13  9  4 10 15 15  1]\n"
     ]
    }
   ],
   "source": [
    "print(val_df['class'].values)"
   ]
  },
  {
   "cell_type": "code",
   "execution_count": 7,
   "id": "8d17b423-1f74-43f7-aee1-c8656a95c5eb",
   "metadata": {},
   "outputs": [
    {
     "name": "stdout",
     "output_type": "stream",
     "text": [
      "Número de clases: 16\n"
     ]
    }
   ],
   "source": [
    "# Definimos la ultima capa para que prediga acorde a nuestras clases\n",
    "num_classes = train_df['class'].nunique()\n",
    "print(f\"Número de clases: {num_classes}\")\n",
    "\n",
    "x = base_model.output  # x es la salida del modelo hasta ahora\n",
    "x = GlobalAveragePooling2D()(x)\n",
    "x = Dense(1024, activation='relu')(x)\n",
    "x = Dropout(0.5)(x)  # Regularización para evitar overfitting\n",
    "\n",
    "# Y creamos una nueva capa de salida que tome como input a la anterior y clasifique en num_classes clases\n",
    "predictions = Dense(num_classes, activation='softmax')(x)  \n",
    "\n",
    "\n",
    "model = Model(inputs=base_model.input, outputs=predictions)"
   ]
  },
  {
   "cell_type": "markdown",
   "id": "19653511-4330-4896-95f0-4fb553ef9bd5",
   "metadata": {},
   "source": [
    "Configuramos el modelo usando momento adaptativo y *sparse categorial cross-entropy* pues es adecuada para clasificacion multiclase con enteros."
   ]
  },
  {
   "cell_type": "code",
   "execution_count": 8,
   "id": "063b0a9d-7844-453f-913a-bd956fe5e805",
   "metadata": {},
   "outputs": [],
   "source": [
    "model.compile(\n",
    "    optimizer=tf.keras.optimizers.Adam(learning_rate=0.001),\n",
    "    loss='sparse_categorical_crossentropy',  # Para etiquetas enteras\n",
    "    metrics=['accuracy']\n",
    ")"
   ]
  },
  {
   "cell_type": "markdown",
   "id": "be07eeb3-a176-4532-88d2-6676c692e191",
   "metadata": {},
   "source": [
    "Entrenemos el modelo con los nuevos datos y guardamos sus pesos"
   ]
  },
  {
   "cell_type": "code",
   "execution_count": 9,
   "id": "dbd7617d-2e83-4aa9-b523-3445b13a500a",
   "metadata": {},
   "outputs": [
    {
     "name": "stderr",
     "output_type": "stream",
     "text": [
      "2025-08-04 16:22:52.670814: W external/local_xla/xla/tsl/framework/cpu_allocator_impl.cc:83] Allocation of 177020928 exceeds 10% of free system memory.\n",
      "2025-08-04 16:22:52.861742: W external/local_xla/xla/tsl/framework/cpu_allocator_impl.cc:83] Allocation of 123887616 exceeds 10% of free system memory.\n",
      "2025-08-04 16:22:54.268510: W external/local_xla/xla/tsl/framework/cpu_allocator_impl.cc:83] Allocation of 177020928 exceeds 10% of free system memory.\n",
      "2025-08-04 16:22:54.476856: W external/local_xla/xla/tsl/framework/cpu_allocator_impl.cc:83] Allocation of 123887616 exceeds 10% of free system memory.\n",
      "2025-08-04 16:22:55.837792: W external/local_xla/xla/tsl/framework/cpu_allocator_impl.cc:83] Allocation of 177020928 exceeds 10% of free system memory.\n"
     ]
    },
    {
     "name": "stdout",
     "output_type": "stream",
     "text": [
      "20/20 - 46s - 2s/step - accuracy: 0.2406 - loss: 2.5064 - val_accuracy: 0.5375 - val_loss: 1.4941\n"
     ]
    }
   ],
   "source": [
    "history = model.fit(train_ds, epochs = 1, validation_data = val_ds, verbose = 2) #, batch_size = 20) # borrar batch_size? \n",
    "model.save_weights(\"arg_only_interpreter_final.weights.h5\")"
   ]
  },
  {
   "cell_type": "code",
   "execution_count": null,
   "id": "c164c3b6-1a99-45b8-8ff3-4e58386c511f",
   "metadata": {},
   "outputs": [],
   "source": []
  },
  {
   "cell_type": "code",
   "execution_count": 10,
   "id": "bb8c428a-b615-495c-b649-a06188a5b7e5",
   "metadata": {},
   "outputs": [
    {
     "name": "stdout",
     "output_type": "stream",
     "text": [
      "\u001b[1m1/1\u001b[0m \u001b[32m━━━━━━━━━━━━━━━━━━━━\u001b[0m\u001b[37m\u001b[0m \u001b[1m1s\u001b[0m 1s/step\n"
     ]
    },
    {
     "ename": "ValueError",
     "evalue": "`decode_predictions` expects a batch of predictions (i.e. a 2D array of shape (samples, 1000)). Received array with shape: (1, 16)",
     "output_type": "error",
     "traceback": [
      "\u001b[31m---------------------------------------------------------------------------\u001b[39m",
      "\u001b[31mValueError\u001b[39m                                Traceback (most recent call last)",
      "\u001b[36mCell\u001b[39m\u001b[36m \u001b[39m\u001b[32mIn[10]\u001b[39m\u001b[32m, line 9\u001b[39m\n\u001b[32m      7\u001b[39m \u001b[38;5;66;03m# Predict\u001b[39;00m\n\u001b[32m      8\u001b[39m predictions = model.predict(img_array)\n\u001b[32m----> \u001b[39m\u001b[32m9\u001b[39m decoded_predictions = \u001b[43mdecode_predictions\u001b[49m\u001b[43m(\u001b[49m\u001b[43mpredictions\u001b[49m\u001b[43m,\u001b[49m\u001b[43m \u001b[49m\u001b[43mtop\u001b[49m\u001b[43m=\u001b[49m\u001b[32;43m5\u001b[39;49m\u001b[43m)\u001b[49m[\u001b[32m0\u001b[39m]\n\u001b[32m     11\u001b[39m \u001b[38;5;66;03m# Display results\u001b[39;00m\n\u001b[32m     12\u001b[39m plt.imshow(img)\n",
      "\u001b[36mFile \u001b[39m\u001b[32m~/envs/asl_env/lib/python3.12/site-packages/keras/src/applications/inception_v3.py:434\u001b[39m, in \u001b[36mdecode_predictions\u001b[39m\u001b[34m(preds, top)\u001b[39m\n\u001b[32m    432\u001b[39m \u001b[38;5;129m@keras_export\u001b[39m(\u001b[33m\"\u001b[39m\u001b[33mkeras.applications.inception_v3.decode_predictions\u001b[39m\u001b[33m\"\u001b[39m)\n\u001b[32m    433\u001b[39m \u001b[38;5;28;01mdef\u001b[39;00m\u001b[38;5;250m \u001b[39m\u001b[34mdecode_predictions\u001b[39m(preds, top=\u001b[32m5\u001b[39m):\n\u001b[32m--> \u001b[39m\u001b[32m434\u001b[39m     \u001b[38;5;28;01mreturn\u001b[39;00m \u001b[43mimagenet_utils\u001b[49m\u001b[43m.\u001b[49m\u001b[43mdecode_predictions\u001b[49m\u001b[43m(\u001b[49m\u001b[43mpreds\u001b[49m\u001b[43m,\u001b[49m\u001b[43m \u001b[49m\u001b[43mtop\u001b[49m\u001b[43m=\u001b[49m\u001b[43mtop\u001b[49m\u001b[43m)\u001b[49m\n",
      "\u001b[36mFile \u001b[39m\u001b[32m~/envs/asl_env/lib/python3.12/site-packages/keras/src/applications/imagenet_utils.py:136\u001b[39m, in \u001b[36mdecode_predictions\u001b[39m\u001b[34m(preds, top)\u001b[39m\n\u001b[32m    133\u001b[39m \u001b[38;5;28;01mglobal\u001b[39;00m CLASS_INDEX\n\u001b[32m    135\u001b[39m \u001b[38;5;28;01mif\u001b[39;00m \u001b[38;5;28mlen\u001b[39m(preds.shape) != \u001b[32m2\u001b[39m \u001b[38;5;129;01mor\u001b[39;00m preds.shape[\u001b[32m1\u001b[39m] != \u001b[32m1000\u001b[39m:\n\u001b[32m--> \u001b[39m\u001b[32m136\u001b[39m     \u001b[38;5;28;01mraise\u001b[39;00m \u001b[38;5;167;01mValueError\u001b[39;00m(\n\u001b[32m    137\u001b[39m         \u001b[33m\"\u001b[39m\u001b[33m`decode_predictions` expects \u001b[39m\u001b[33m\"\u001b[39m\n\u001b[32m    138\u001b[39m         \u001b[33m\"\u001b[39m\u001b[33ma batch of predictions \u001b[39m\u001b[33m\"\u001b[39m\n\u001b[32m    139\u001b[39m         \u001b[33m\"\u001b[39m\u001b[33m(i.e. a 2D array of shape (samples, 1000)). \u001b[39m\u001b[33m\"\u001b[39m\n\u001b[32m    140\u001b[39m         \u001b[33mf\u001b[39m\u001b[33m\"\u001b[39m\u001b[33mReceived array with shape: \u001b[39m\u001b[38;5;132;01m{\u001b[39;00mpreds.shape\u001b[38;5;132;01m}\u001b[39;00m\u001b[33m\"\u001b[39m\n\u001b[32m    141\u001b[39m     )\n\u001b[32m    142\u001b[39m \u001b[38;5;28;01mif\u001b[39;00m CLASS_INDEX \u001b[38;5;129;01mis\u001b[39;00m \u001b[38;5;28;01mNone\u001b[39;00m:\n\u001b[32m    143\u001b[39m     fpath = file_utils.get_file(\n\u001b[32m    144\u001b[39m         \u001b[33m\"\u001b[39m\u001b[33mimagenet_class_index.json\u001b[39m\u001b[33m\"\u001b[39m,\n\u001b[32m    145\u001b[39m         CLASS_INDEX_PATH,\n\u001b[32m    146\u001b[39m         cache_subdir=\u001b[33m\"\u001b[39m\u001b[33mmodels\u001b[39m\u001b[33m\"\u001b[39m,\n\u001b[32m    147\u001b[39m         file_hash=\u001b[33m\"\u001b[39m\u001b[33mc2c37ea517e94d9795004a39431a14cb\u001b[39m\u001b[33m\"\u001b[39m,\n\u001b[32m    148\u001b[39m     )\n",
      "\u001b[31mValueError\u001b[39m: `decode_predictions` expects a batch of predictions (i.e. a 2D array of shape (samples, 1000)). Received array with shape: (1, 16)"
     ]
    }
   ],
   "source": [
    "img_path = 'asl_dataset/a/hand1_a_bot_seg_5_cropped.jpeg'  \n",
    "img = image.load_img(img_path, target_size=(299, 299)) # La carga en img y le hace resize a 299x299\n",
    "img_array = image.img_to_array(img)                    # La convierte a array de NumPy con dimensiones (299, 299, 3)\n",
    "img_array = np.expand_dims(img_array, axis=0)          # Agrega una dimension mas al array, haciendolo (1, 299, 299, 3) para batching\n",
    "img_array = preprocess_input(img_array)                # Matchea la representacion de la imagen a como la espera ImageNet (ej. mappea 0-255 a -1,1, cambia de RGB a BGR)\n",
    "\n",
    "# Predict\n",
    "predictions = model.predict(img_array)\n",
    "decoded_predictions = decode_predictions(predictions, top=5)[0]\n",
    "\n",
    "# Display results\n",
    "plt.imshow(img)\n",
    "plt.axis('off')\n",
    "plt.show()\n",
    "\n",
    "print(\"Top 5 Predictions:\")\n",
    "for i, (_, label, prob) in enumerate(decoded_predictions):\n",
    "    print(f\"{i + 1}: {label} ({prob * 100:.2f}%)\")"
   ]
  }
 ],
 "metadata": {
  "kernelspec": {
   "display_name": "Python 3 (ipykernel)",
   "language": "python",
   "name": "python3"
  },
  "language_info": {
   "codemirror_mode": {
    "name": "ipython",
    "version": 3
   },
   "file_extension": ".py",
   "mimetype": "text/x-python",
   "name": "python",
   "nbconvert_exporter": "python",
   "pygments_lexer": "ipython3",
   "version": "3.12.3"
  }
 },
 "nbformat": 4,
 "nbformat_minor": 5
}
