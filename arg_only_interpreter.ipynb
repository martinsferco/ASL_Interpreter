{
 "cells": [
  {
   "cell_type": "markdown",
   "id": "8e4cb982-03fb-4982-ab38-312b2d644be3",
   "metadata": {},
   "source": [
    "Reconocedor de lenguaje de señas Argentino entrenado solo con el dataset argentino."
   ]
  },
  {
   "cell_type": "code",
   "execution_count": 3,
   "id": "bc89cb28-63ce-4021-bc45-de4b92ea4a03",
   "metadata": {},
   "outputs": [],
   "source": [
    "import tensorflow as tf\n",
    "from tensorflow.keras.applications.inception_v3 import InceptionV3, preprocess_input, decode_predictions\n",
    "from tensorflow.keras.preprocessing import image\n",
    "import numpy as np\n",
    "import matplotlib.pyplot as plt"
   ]
  },
  {
   "cell_type": "markdown",
   "id": "c5455f5a-97ea-42f3-b84d-f05dbbb3a31e",
   "metadata": {},
   "source": [
    "Cargamos el modelo de manera que sea entrenable. No incluímos su última capa para poder establecer nuestras propias clases."
   ]
  },
  {
   "cell_type": "code",
   "execution_count": 4,
   "id": "e3bcd231-49d4-440f-9fdb-6b49a9d8bd68",
   "metadata": {},
   "outputs": [
    {
     "name": "stderr",
     "output_type": "stream",
     "text": [
      "2025-06-30 15:58:08.671873: E external/local_xla/xla/stream_executor/cuda/cuda_platform.cc:51] failed call to cuInit: INTERNAL: CUDA error: Failed call to cuInit: UNKNOWN ERROR (303)\n"
     ]
    }
   ],
   "source": [
    "# Cargamos InceptionV3\n",
    "base_model = InceptionV3(weights = 'imagenet',       # Pre-entrenado con ImageNet\n",
    "                         include_top = False,        # Sin incluir su capa de clasificacion con 1000 clases para poder hacer fine-tuning \n",
    "                         input_shape = (299, 299, 3) # Necesario cuando no incluimos la ultima capa\n",
    "                        )\n",
    "\n",
    "# Inicialmente congelamos todas las capas, despues descongelaremos las que nos interesen\n",
    "base_model.trainable = False"
   ]
  },
  {
   "cell_type": "markdown",
   "id": "cb3b6fc2-2c8a-49e0-8a50-7ca8db986aab",
   "metadata": {},
   "source": [
    "Importamos los datasets y hacemos un split."
   ]
  },
  {
   "cell_type": "code",
   "execution_count": 22,
   "id": "9ab254a5-4edd-4466-8124-9d626f4d6421",
   "metadata": {},
   "outputs": [
    {
     "name": "stdout",
     "output_type": "stream",
     "text": [
      "       filename  class\n",
      "0     5_5_2.png      5\n",
      "1     2_4_5.png      2\n",
      "2     9_3_2.png      9\n",
      "3    15_9_4.png     15\n",
      "4    10_5_3.png     10\n",
      "..          ...    ...\n",
      "795   7_6_1.png      7\n",
      "796  12_9_2.png     12\n",
      "797  6_10_3.png      6\n",
      "798   2_6_4.png      2\n",
      "799   4_1_3.png      4\n",
      "\n",
      "[800 rows x 2 columns]\n"
     ]
    }
   ],
   "source": [
    "import os\n",
    "import pandas as pd\n",
    "from sklearn.model_selection import train_test_split\n",
    "\n",
    "# Extraemos los nombres de todas las imagenes que vamos a utilizar\n",
    "image_dir = 'lsa16_segmented/'\n",
    "filenames = [f for f in os.listdir(image_dir)]\n",
    "\n",
    "# Y de cada una extraemos su clase, que viene dada por el primer numero del nombre\n",
    "labels = [int(f.split('_')[0]) for f in filenames]\n",
    "\n",
    "# Y creamos un dataframe que asocia a cada nombre de archivo su clase.\n",
    "df = pd.DataFrame({'filename': filenames, 'class': labels})"
   ]
  },
  {
   "cell_type": "markdown",
   "id": "c35cdbe3-7c07-472a-a3e6-32f951d47104",
   "metadata": {},
   "source": [
    "Preprocesamos las imagenes para adecuarlas al formato de ImageNet"
   ]
  },
  {
   "cell_type": "code",
   "execution_count": 9,
   "id": "533ae972-308d-447c-8a46-927dc74b94e5",
   "metadata": {},
   "outputs": [],
   "source": [
    "# Separamos al dataset en train y validacion.\n",
    "train_df, val_df = train_test_split(df,\n",
    "                                    test_size=0.2,\n",
    "                                    stratify=df['class'],   # Hace que se mantengan las proporciones de las clases luego del split\n",
    "                                    random_state=42)"
   ]
  },
  {
   "cell_type": "markdown",
   "id": "8025e1e3-4e1e-4969-9039-437b909fddb7",
   "metadata": {},
   "source": [
    "Creamos un *pipeline* de datos de *TensorFlow*,"
   ]
  },
  {
   "cell_type": "code",
   "execution_count": 20,
   "id": "325d2a59-b2f9-46b4-b97d-0d2c99eafe37",
   "metadata": {},
   "outputs": [],
   "source": [
    "# Definimos una funcion que dado un filename devuelve su imagen y su clase o label\n",
    "def load_and_preprocess(image_path, label):\n",
    "\n",
    "    # Leemos el archivo y lo decodificamos en RGB\n",
    "    img = tf.io.read_file(image_dir + image_path)\n",
    "    img = tf.image.decode_jpeg(img, channels=3) \n",
    "    \n",
    "    # Lo preprocesamos para InceptionV3\n",
    "    img = tf.image.resize(img, [299, 299])\n",
    "    img = preprocess_input(img)  # Obs. que preprocess_input es una funcion de inception_v3 en particular\n",
    "    \n",
    "    return img, label\n",
    "\n",
    "# Usamos un batch_size de TensorFlow estandar\n",
    "batch_size = 32\n",
    "\n",
    "# 1. Cargamos el dataframe\n",
    "ds = tf.data.Dataset.from_tensor_slices((train_df['filename'].values, train_df['class'].values))\n",
    "\n",
    "# 2. Le mappeamos el preprocesamiento a cada entrada, paralelizando\n",
    "ds = ds.map(load_and_preprocess, num_parallel_calls=tf.data.AUTOTUNE)\n",
    "\n",
    "# 3. Mezclamos para randomizar el orden de las muestras\n",
    "ds = ds.shuffle(buffer_size=len(train_df))\n",
    "\n",
    "# 4. Usamos el batch_size estandar\n",
    "ds = ds.batch(batch_size)\n",
    "\n",
    "# 5. Permitimos el prefetching del proximo batch\n",
    "train_ds = ds.prefetch(tf.data.AUTOTUNE)                                                       \n",
    "\n",
    "# Y repetimos lo mismo para el conjunto de validacion\n",
    "val_ds = tf.data.Dataset.from_tensor_slices((val_df['filename'].values, val_df['class'].values))\\\n",
    "           .map(load_and_preprocess, num_parallel_calls=tf.data.AUTOTUNE) \\\n",
    "           .batch(batch_size) \\\n",
    "           .prefetch(tf.data.AUTOTUNE)"
   ]
  },
  {
   "cell_type": "code",
   "execution_count": null,
   "id": "8d17b423-1f74-43f7-aee1-c8656a95c5eb",
   "metadata": {},
   "outputs": [],
   "source": [
    "# Definimos la ultima capa para que prediga acorde a nuestras clases\n",
    "num_classes = train_df['class'].nunique()\n",
    "print(f\"Número de clases: {num_classes}\")\n",
    "\n",
    "x = base_model.output  # x es la salida del modelo hasta ahora\n",
    "x = GlobalAveragePooling2D()(x)\n",
    "x = Dense(1024, activation='relu')(x)\n",
    "x = Dropout(0.5)(x)  # Regularización para evitar overfitting\n",
    "\n",
    "# Y creamos una nueva capa de salida que tome como input a la anterior y clasifique en num_classes clases\n",
    "predictions = Dense(num_classes, activation='softmax')(x)  \n",
    "\n",
    "model = Model(inputs=base_model.input, outputs=predictions)"
   ]
  },
  {
   "cell_type": "markdown",
   "id": "19653511-4330-4896-95f0-4fb553ef9bd5",
   "metadata": {},
   "source": [
    "Configuramos el modelo usando momento adaptativo y *sparse categorial cross-entropy* pues es adecuada para clasificacion multiclase con enteros."
   ]
  },
  {
   "cell_type": "code",
   "execution_count": 24,
   "id": "063b0a9d-7844-453f-913a-bd956fe5e805",
   "metadata": {},
   "outputs": [],
   "source": [
    "base_model.compile(\n",
    "    optimizer=tf.keras.optimizers.Adam(learning_rate=0.001),\n",
    "    loss='sparse_categorical_crossentropy',  # Para etiquetas enteras\n",
    "    metrics=['accuracy']\n",
    ")"
   ]
  },
  {
   "cell_type": "code",
   "execution_count": null,
   "id": "c164c3b6-1a99-45b8-8ff3-4e58386c511f",
   "metadata": {},
   "outputs": [],
   "source": []
  },
  {
   "cell_type": "code",
   "execution_count": null,
   "id": "bb8c428a-b615-495c-b649-a06188a5b7e5",
   "metadata": {},
   "outputs": [],
   "source": [
    "img_path = 'asl_dataset/a/hand1_a_bot_seg_5_cropped.jpeg'  \n",
    "img = image.load_img(img_path, target_size=(299, 299)) # La carga en img y le hace resize a 299x299\n",
    "img_array = image.img_to_array(img)                    # La convierte a array de NumPy con dimensiones (299, 299, 3)\n",
    "img_array = np.expand_dims(img_array, axis=0)          # Agrega una dimension mas al array, haciendolo (1, 299, 299, 3) para batching\n",
    "img_array = preprocess_input(img_array)                # Matchea la representacion de la imagen a como la espera ImageNet (ej. mappea 0-255 a -1,1, cambia de RGB a BGR)\n",
    "\n",
    "# Predict\n",
    "predictions = model.predict(img_array)\n",
    "decoded_predictions = decode_predictions(predictions, top=5)[0]\n",
    "\n",
    "# Display results\n",
    "plt.imshow(img)\n",
    "plt.axis('off')\n",
    "plt.show()\n",
    "\n",
    "print(\"Top 5 Predictions:\")\n",
    "for i, (_, label, prob) in enumerate(decoded_predictions):\n",
    "    print(f\"{i + 1}: {label} ({prob * 100:.2f}%)\")"
   ]
  }
 ],
 "metadata": {
  "kernelspec": {
   "display_name": "Python (ia_venv)",
   "language": "python",
   "name": "ia_venv"
  },
  "language_info": {
   "codemirror_mode": {
    "name": "ipython",
    "version": 3
   },
   "file_extension": ".py",
   "mimetype": "text/x-python",
   "name": "python",
   "nbconvert_exporter": "python",
   "pygments_lexer": "ipython3",
   "version": "3.12.3"
  }
 },
 "nbformat": 4,
 "nbformat_minor": 5
}
